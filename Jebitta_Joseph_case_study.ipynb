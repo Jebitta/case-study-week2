{
  "nbformat": 4,
  "nbformat_minor": 0,
  "metadata": {
    "colab": {
      "name": "Jebitta Joseph case study",
      "provenance": [],
      "toc_visible": true
    },
    "kernelspec": {
      "name": "python3",
      "display_name": "Python 3"
    },
    "language_info": {
      "name": "python"
    }
  },
  "cells": [
    {
      "cell_type": "code",
      "metadata": {
        "id": "cBkr0w76dtd5"
      },
      "source": [
        ""
      ],
      "execution_count": null,
      "outputs": []
    },
    {
      "cell_type": "code",
      "metadata": {
        "id": "7Dyu4jvxrjVQ"
      },
      "source": [
        "import numpy as np\n",
        "import pandas as pd\n",
        "import matplotlib.pyplot as plt\n",
        "import seaborn as sns"
      ],
      "execution_count": 9,
      "outputs": []
    },
    {
      "cell_type": "markdown",
      "metadata": {
        "id": "jz0uLzrqi70v"
      },
      "source": [
        "1**. Read the dataset to the python environment.**"
      ]
    },
    {
      "cell_type": "code",
      "metadata": {
        "id": "s2ihfsWwuR2v"
      },
      "source": [
        "cars=pd.read_csv('/cars_data.csv')"
      ],
      "execution_count": 12,
      "outputs": []
    },
    {
      "cell_type": "code",
      "metadata": {
        "colab": {
          "base_uri": "https://localhost:8080/",
          "height": 278
        },
        "id": "cjgTa9m3iWvB",
        "outputId": "6eef1bd1-3985-4cbc-dcc6-9efa2027d34e"
      },
      "source": [
        "cars.head()"
      ],
      "execution_count": 13,
      "outputs": [
        {
          "output_type": "execute_result",
          "data": {
            "text/html": [
              "<div>\n",
              "<style scoped>\n",
              "    .dataframe tbody tr th:only-of-type {\n",
              "        vertical-align: middle;\n",
              "    }\n",
              "\n",
              "    .dataframe tbody tr th {\n",
              "        vertical-align: top;\n",
              "    }\n",
              "\n",
              "    .dataframe thead th {\n",
              "        text-align: right;\n",
              "    }\n",
              "</style>\n",
              "<table border=\"1\" class=\"dataframe\">\n",
              "  <thead>\n",
              "    <tr style=\"text-align: right;\">\n",
              "      <th></th>\n",
              "      <th>Make</th>\n",
              "      <th>Model</th>\n",
              "      <th>Nickname</th>\n",
              "      <th>Car Gender</th>\n",
              "      <th>Buyer Gender</th>\n",
              "      <th>Buyer Age</th>\n",
              "      <th>Buzzword</th>\n",
              "      <th>Country</th>\n",
              "      <th>City</th>\n",
              "      <th>Dealer Latitude</th>\n",
              "      <th>Dealer Longitude</th>\n",
              "      <th>Color</th>\n",
              "      <th>New Car</th>\n",
              "      <th>Purchase Date</th>\n",
              "      <th>Sale Price</th>\n",
              "      <th>Discount</th>\n",
              "      <th>Resell Price</th>\n",
              "      <th>5-yr Depreciation</th>\n",
              "      <th>Top Speed</th>\n",
              "      <th>0-60 Time</th>\n",
              "    </tr>\n",
              "  </thead>\n",
              "  <tbody>\n",
              "    <tr>\n",
              "      <th>0</th>\n",
              "      <td>Suzuki</td>\n",
              "      <td>Vitara</td>\n",
              "      <td>Philippine</td>\n",
              "      <td>Female</td>\n",
              "      <td>Female</td>\n",
              "      <td>51</td>\n",
              "      <td>User-friendly</td>\n",
              "      <td>Belgium</td>\n",
              "      <td>Antwerpen</td>\n",
              "      <td>51.247239</td>\n",
              "      <td>4.440346</td>\n",
              "      <td>Yellow</td>\n",
              "      <td>False</td>\n",
              "      <td>19/07/2009</td>\n",
              "      <td>54806.14</td>\n",
              "      <td>0.2467</td>\n",
              "      <td>33858.32</td>\n",
              "      <td>0.13</td>\n",
              "      <td>200.9</td>\n",
              "      <td>11.5</td>\n",
              "    </tr>\n",
              "    <tr>\n",
              "      <th>1</th>\n",
              "      <td>Honda</td>\n",
              "      <td>S2000</td>\n",
              "      <td>Henrik</td>\n",
              "      <td>Male</td>\n",
              "      <td>Male</td>\n",
              "      <td>30</td>\n",
              "      <td>analyzing</td>\n",
              "      <td>China</td>\n",
              "      <td>Jinhu</td>\n",
              "      <td>33.025433</td>\n",
              "      <td>119.020584</td>\n",
              "      <td>Crimson</td>\n",
              "      <td>False</td>\n",
              "      <td>26/10/2015</td>\n",
              "      <td>51826.30</td>\n",
              "      <td>0.3147</td>\n",
              "      <td>2989.28</td>\n",
              "      <td>0.02</td>\n",
              "      <td>158.5</td>\n",
              "      <td>8.8</td>\n",
              "    </tr>\n",
              "    <tr>\n",
              "      <th>2</th>\n",
              "      <td>BMW</td>\n",
              "      <td>Z4</td>\n",
              "      <td>Lebbie</td>\n",
              "      <td>Male</td>\n",
              "      <td>Female</td>\n",
              "      <td>54</td>\n",
              "      <td>software</td>\n",
              "      <td>China</td>\n",
              "      <td>Gemo</td>\n",
              "      <td>30.916207</td>\n",
              "      <td>121.677640</td>\n",
              "      <td>Khaki</td>\n",
              "      <td>False</td>\n",
              "      <td>28/03/2010</td>\n",
              "      <td>82929.14</td>\n",
              "      <td>0.5414</td>\n",
              "      <td>35049.16</td>\n",
              "      <td>0.24</td>\n",
              "      <td>149.5</td>\n",
              "      <td>14.4</td>\n",
              "    </tr>\n",
              "    <tr>\n",
              "      <th>3</th>\n",
              "      <td>Toyota</td>\n",
              "      <td>Tacoma</td>\n",
              "      <td>Jefferey</td>\n",
              "      <td>Female</td>\n",
              "      <td>Male</td>\n",
              "      <td>68</td>\n",
              "      <td>monitoring</td>\n",
              "      <td>Portugal</td>\n",
              "      <td>Queluz de Baixo</td>\n",
              "      <td>38.745168</td>\n",
              "      <td>-9.267087</td>\n",
              "      <td>Puce</td>\n",
              "      <td>False</td>\n",
              "      <td>07/05/2008</td>\n",
              "      <td>56928.66</td>\n",
              "      <td>0.0850</td>\n",
              "      <td>8236.15</td>\n",
              "      <td>0.20</td>\n",
              "      <td>153.3</td>\n",
              "      <td>11.5</td>\n",
              "    </tr>\n",
              "    <tr>\n",
              "      <th>4</th>\n",
              "      <td>Ford</td>\n",
              "      <td>Festiva</td>\n",
              "      <td>Glendon</td>\n",
              "      <td>Female</td>\n",
              "      <td>Male</td>\n",
              "      <td>70</td>\n",
              "      <td>Sharable</td>\n",
              "      <td>Latvia</td>\n",
              "      <td>Jaunpils</td>\n",
              "      <td>56.729980</td>\n",
              "      <td>23.016588</td>\n",
              "      <td>Yellow</td>\n",
              "      <td>False</td>\n",
              "      <td>01/06/2008</td>\n",
              "      <td>77201.26</td>\n",
              "      <td>0.1642</td>\n",
              "      <td>32765.76</td>\n",
              "      <td>0.18</td>\n",
              "      <td>122.0</td>\n",
              "      <td>14.9</td>\n",
              "    </tr>\n",
              "  </tbody>\n",
              "</table>\n",
              "</div>"
            ],
            "text/plain": [
              "     Make    Model    Nickname  ... 5-yr Depreciation Top Speed  0-60 Time\n",
              "0  Suzuki   Vitara  Philippine  ...              0.13     200.9       11.5\n",
              "1   Honda    S2000      Henrik  ...              0.02     158.5        8.8\n",
              "2     BMW       Z4      Lebbie  ...              0.24     149.5       14.4\n",
              "3  Toyota   Tacoma    Jefferey  ...              0.20     153.3       11.5\n",
              "4    Ford  Festiva     Glendon  ...              0.18     122.0       14.9\n",
              "\n",
              "[5 rows x 20 columns]"
            ]
          },
          "metadata": {},
          "execution_count": 13
        }
      ]
    },
    {
      "cell_type": "markdown",
      "metadata": {
        "id": "l540kMyqjEu_"
      },
      "source": [
        "**2. Check for the null values present in the dataset.**"
      ]
    },
    {
      "cell_type": "code",
      "metadata": {
        "id": "bFalgyEnjLdH"
      },
      "source": [
        ""
      ],
      "execution_count": null,
      "outputs": []
    },
    {
      "cell_type": "code",
      "metadata": {
        "colab": {
          "base_uri": "https://localhost:8080/"
        },
        "id": "fZKHvOPHCstP",
        "outputId": "a4c47eff-b5ce-4bd2-911e-c32ce105198c"
      },
      "source": [
        "cars.isnull().sum()"
      ],
      "execution_count": 14,
      "outputs": [
        {
          "output_type": "execute_result",
          "data": {
            "text/plain": [
              "Make                 0\n",
              "Model                0\n",
              "Nickname             0\n",
              "Car Gender           0\n",
              "Buyer Gender         0\n",
              "Buyer Age            0\n",
              "Buzzword             0\n",
              "Country              0\n",
              "City                 0\n",
              "Dealer Latitude      0\n",
              "Dealer Longitude     0\n",
              "Color                0\n",
              "New Car              0\n",
              "Purchase Date        0\n",
              "Sale Price           0\n",
              "Discount             0\n",
              "Resell Price         0\n",
              "5-yr Depreciation    0\n",
              "Top Speed            0\n",
              "0-60 Time            0\n",
              "dtype: int64"
            ]
          },
          "metadata": {},
          "execution_count": 14
        }
      ]
    },
    {
      "cell_type": "markdown",
      "metadata": {
        "id": "VBTRl8DRjdva"
      },
      "source": [
        "**3. Plot a bar graph of male vs female buyers participated in the sales.**"
      ]
    },
    {
      "cell_type": "code",
      "metadata": {
        "id": "zek28If4re5n"
      },
      "source": [
        ""
      ],
      "execution_count": null,
      "outputs": []
    },
    {
      "cell_type": "code",
      "metadata": {
        "colab": {
          "base_uri": "https://localhost:8080/",
          "height": 112
        },
        "id": "s9T573CvDn-e",
        "outputId": "6bd66c73-ba48-46c2-beed-d9ed659bdc8e"
      },
      "source": [
        "count=cars['Buyer Gender'].value_counts()\n",
        "data=pd.DataFrame({'Gender':count.index,'Count':count.values})\n",
        "data"
      ],
      "execution_count": 17,
      "outputs": [
        {
          "output_type": "execute_result",
          "data": {
            "text/html": [
              "<div>\n",
              "<style scoped>\n",
              "    .dataframe tbody tr th:only-of-type {\n",
              "        vertical-align: middle;\n",
              "    }\n",
              "\n",
              "    .dataframe tbody tr th {\n",
              "        vertical-align: top;\n",
              "    }\n",
              "\n",
              "    .dataframe thead th {\n",
              "        text-align: right;\n",
              "    }\n",
              "</style>\n",
              "<table border=\"1\" class=\"dataframe\">\n",
              "  <thead>\n",
              "    <tr style=\"text-align: right;\">\n",
              "      <th></th>\n",
              "      <th>Gender</th>\n",
              "      <th>Count</th>\n",
              "    </tr>\n",
              "  </thead>\n",
              "  <tbody>\n",
              "    <tr>\n",
              "      <th>0</th>\n",
              "      <td>Female</td>\n",
              "      <td>5052</td>\n",
              "    </tr>\n",
              "    <tr>\n",
              "      <th>1</th>\n",
              "      <td>Male</td>\n",
              "      <td>4948</td>\n",
              "    </tr>\n",
              "  </tbody>\n",
              "</table>\n",
              "</div>"
            ],
            "text/plain": [
              "   Gender  Count\n",
              "0  Female   5052\n",
              "1    Male   4948"
            ]
          },
          "metadata": {},
          "execution_count": 17
        }
      ]
    },
    {
      "cell_type": "code",
      "metadata": {
        "id": "NxsYZBBT1Uz5"
      },
      "source": [
        ""
      ],
      "execution_count": null,
      "outputs": []
    },
    {
      "cell_type": "code",
      "metadata": {
        "colab": {
          "base_uri": "https://localhost:8080/",
          "height": 295
        },
        "id": "o34NR7mmlDFQ",
        "outputId": "55df2445-80da-4d6d-df65-d0d2de1bc552"
      },
      "source": [
        "plt.bar(data['Gender'],data['Count'],width=0.2,color='maroon')\n",
        "plt.title('Bar graph of male vs female buyers participated in the sales')\n",
        "plt.xlabel('Buyer Gender')\n",
        "plt.ylabel('Count')\n",
        "plt.grid(16)"
      ],
      "execution_count": 18,
      "outputs": [
        {
          "output_type": "display_data",
          "data": {
            "image/png": "[encoded data removed]",
            "text/plain": [
              "<Figure size 432x288 with 1 Axes>"
            ]
          },
          "metadata": {
            "needs_background": "light"
          }
        }
      ]
    },
    {
      "cell_type": "markdown",
      "metadata": {
        "id": "rmzAmMy71dmJ"
      },
      "source": [
        "**4. Find the top 5 cars based on their sales price.**"
      ]
    },
    {
      "cell_type": "code",
      "metadata": {
        "id": "b-YVwfe91hJJ"
      },
      "source": [
        ""
      ],
      "execution_count": null,
      "outputs": []
    },
    {
      "cell_type": "code",
      "metadata": {
        "colab": {
          "base_uri": "https://localhost:8080/",
          "height": 295
        },
        "id": "6MZ_fnA8KV7x",
        "outputId": "f2a78c23-8a9b-4738-e06f-08cf002b935e"
      },
      "source": [
        "cars.sort_values(by = 'Sale Price', ascending=False)[:5]"
      ],
      "execution_count": 21,
      "outputs": [
        {
          "output_type": "execute_result",
          "data": {
            "text/html": [
              "<div>\n",
              "<style scoped>\n",
              "    .dataframe tbody tr th:only-of-type {\n",
              "        vertical-align: middle;\n",
              "    }\n",
              "\n",
              "    .dataframe tbody tr th {\n",
              "        vertical-align: top;\n",
              "    }\n",
              "\n",
              "    .dataframe thead th {\n",
              "        text-align: right;\n",
              "    }\n",
              "</style>\n",
              "<table border=\"1\" class=\"dataframe\">\n",
              "  <thead>\n",
              "    <tr style=\"text-align: right;\">\n",
              "      <th></th>\n",
              "      <th>Make</th>\n",
              "      <th>Model</th>\n",
              "      <th>Nickname</th>\n",
              "      <th>Car Gender</th>\n",
              "      <th>Buyer Gender</th>\n",
              "      <th>Buyer Age</th>\n",
              "      <th>Buzzword</th>\n",
              "      <th>Country</th>\n",
              "      <th>City</th>\n",
              "      <th>Dealer Latitude</th>\n",
              "      <th>Dealer Longitude</th>\n",
              "      <th>Color</th>\n",
              "      <th>New Car</th>\n",
              "      <th>Purchase Date</th>\n",
              "      <th>Sale Price</th>\n",
              "      <th>Discount</th>\n",
              "      <th>Resell Price</th>\n",
              "      <th>5-yr Depreciation</th>\n",
              "      <th>Top Speed</th>\n",
              "      <th>0-60 Time</th>\n",
              "    </tr>\n",
              "  </thead>\n",
              "  <tbody>\n",
              "    <tr>\n",
              "      <th>5984</th>\n",
              "      <td>Volkswagen</td>\n",
              "      <td>Jetta III</td>\n",
              "      <td>Rachael</td>\n",
              "      <td>Female</td>\n",
              "      <td>Female</td>\n",
              "      <td>73</td>\n",
              "      <td>core</td>\n",
              "      <td>Russia</td>\n",
              "      <td>Krasnoyarka</td>\n",
              "      <td>59.418208</td>\n",
              "      <td>60.514706</td>\n",
              "      <td>Blue</td>\n",
              "      <td>False</td>\n",
              "      <td>10/05/2014</td>\n",
              "      <td>99997.65</td>\n",
              "      <td>0.1695</td>\n",
              "      <td>31601.95</td>\n",
              "      <td>0.06</td>\n",
              "      <td>204.9</td>\n",
              "      <td>12.6</td>\n",
              "    </tr>\n",
              "    <tr>\n",
              "      <th>1270</th>\n",
              "      <td>Audi</td>\n",
              "      <td>A6</td>\n",
              "      <td>Thorn</td>\n",
              "      <td>Male</td>\n",
              "      <td>Male</td>\n",
              "      <td>75</td>\n",
              "      <td>function</td>\n",
              "      <td>Latvia</td>\n",
              "      <td>Līgatne</td>\n",
              "      <td>57.236340</td>\n",
              "      <td>25.038073</td>\n",
              "      <td>Blue</td>\n",
              "      <td>True</td>\n",
              "      <td>30/01/2017</td>\n",
              "      <td>99991.91</td>\n",
              "      <td>0.4692</td>\n",
              "      <td>34711.19</td>\n",
              "      <td>0.16</td>\n",
              "      <td>171.3</td>\n",
              "      <td>13.0</td>\n",
              "    </tr>\n",
              "    <tr>\n",
              "      <th>3460</th>\n",
              "      <td>Lexus</td>\n",
              "      <td>LX</td>\n",
              "      <td>Aldin</td>\n",
              "      <td>Female</td>\n",
              "      <td>Male</td>\n",
              "      <td>38</td>\n",
              "      <td>software</td>\n",
              "      <td>Malaysia</td>\n",
              "      <td>Pasir Mas</td>\n",
              "      <td>6.109065</td>\n",
              "      <td>102.133622</td>\n",
              "      <td>Orange</td>\n",
              "      <td>False</td>\n",
              "      <td>04/03/2018</td>\n",
              "      <td>99983.38</td>\n",
              "      <td>0.1170</td>\n",
              "      <td>21462.44</td>\n",
              "      <td>0.12</td>\n",
              "      <td>193.7</td>\n",
              "      <td>4.5</td>\n",
              "    </tr>\n",
              "    <tr>\n",
              "      <th>9032</th>\n",
              "      <td>Mazda</td>\n",
              "      <td>MX-6</td>\n",
              "      <td>Sylvester</td>\n",
              "      <td>Female</td>\n",
              "      <td>Male</td>\n",
              "      <td>26</td>\n",
              "      <td>internet solution</td>\n",
              "      <td>Russia</td>\n",
              "      <td>Krutaya Gorka</td>\n",
              "      <td>55.369917</td>\n",
              "      <td>73.222396</td>\n",
              "      <td>Pink</td>\n",
              "      <td>False</td>\n",
              "      <td>11/12/2014</td>\n",
              "      <td>99978.17</td>\n",
              "      <td>0.6021</td>\n",
              "      <td>45958.19</td>\n",
              "      <td>0.15</td>\n",
              "      <td>232.0</td>\n",
              "      <td>3.9</td>\n",
              "    </tr>\n",
              "    <tr>\n",
              "      <th>302</th>\n",
              "      <td>Lexus</td>\n",
              "      <td>ES</td>\n",
              "      <td>Brig</td>\n",
              "      <td>Female</td>\n",
              "      <td>Male</td>\n",
              "      <td>39</td>\n",
              "      <td>user-facing</td>\n",
              "      <td>Canada</td>\n",
              "      <td>Langford</td>\n",
              "      <td>48.447463</td>\n",
              "      <td>-123.495634</td>\n",
              "      <td>Maroon</td>\n",
              "      <td>False</td>\n",
              "      <td>26/07/2018</td>\n",
              "      <td>99973.44</td>\n",
              "      <td>0.6294</td>\n",
              "      <td>32521.53</td>\n",
              "      <td>0.21</td>\n",
              "      <td>228.1</td>\n",
              "      <td>4.7</td>\n",
              "    </tr>\n",
              "  </tbody>\n",
              "</table>\n",
              "</div>"
            ],
            "text/plain": [
              "            Make      Model   Nickname  ... 5-yr Depreciation Top Speed  0-60 Time\n",
              "5984  Volkswagen  Jetta III    Rachael  ...              0.06     204.9       12.6\n",
              "1270        Audi         A6      Thorn  ...              0.16     171.3       13.0\n",
              "3460       Lexus         LX      Aldin  ...              0.12     193.7        4.5\n",
              "9032       Mazda       MX-6  Sylvester  ...              0.15     232.0        3.9\n",
              "302        Lexus         ES       Brig  ...              0.21     228.1        4.7\n",
              "\n",
              "[5 rows x 20 columns]"
            ]
          },
          "metadata": {},
          "execution_count": 21
        }
      ]
    },
    {
      "cell_type": "markdown",
      "metadata": {
        "id": "nS8mzfCl3dy5"
      },
      "source": [
        "**5. Find the least 5 cars based on their Resell price**."
      ]
    },
    {
      "cell_type": "code",
      "metadata": {
        "id": "Wfz5yq6J2kUS"
      },
      "source": [
        ""
      ],
      "execution_count": null,
      "outputs": []
    },
    {
      "cell_type": "code",
      "metadata": {
        "id": "0rN3nxjhNEP8",
        "colab": {
          "base_uri": "https://localhost:8080/",
          "height": 295
        },
        "outputId": "ec33826a-92b8-4f02-f798-e0bc889ccc4c"
      },
      "source": [
        "cars.sort_values(by='Resell Price')[:5]"
      ],
      "execution_count": 22,
      "outputs": [
        {
          "output_type": "execute_result",
          "data": {
            "text/html": [
              "<div>\n",
              "<style scoped>\n",
              "    .dataframe tbody tr th:only-of-type {\n",
              "        vertical-align: middle;\n",
              "    }\n",
              "\n",
              "    .dataframe tbody tr th {\n",
              "        vertical-align: top;\n",
              "    }\n",
              "\n",
              "    .dataframe thead th {\n",
              "        text-align: right;\n",
              "    }\n",
              "</style>\n",
              "<table border=\"1\" class=\"dataframe\">\n",
              "  <thead>\n",
              "    <tr style=\"text-align: right;\">\n",
              "      <th></th>\n",
              "      <th>Make</th>\n",
              "      <th>Model</th>\n",
              "      <th>Nickname</th>\n",
              "      <th>Car Gender</th>\n",
              "      <th>Buyer Gender</th>\n",
              "      <th>Buyer Age</th>\n",
              "      <th>Buzzword</th>\n",
              "      <th>Country</th>\n",
              "      <th>City</th>\n",
              "      <th>Dealer Latitude</th>\n",
              "      <th>Dealer Longitude</th>\n",
              "      <th>Color</th>\n",
              "      <th>New Car</th>\n",
              "      <th>Purchase Date</th>\n",
              "      <th>Sale Price</th>\n",
              "      <th>Discount</th>\n",
              "      <th>Resell Price</th>\n",
              "      <th>5-yr Depreciation</th>\n",
              "      <th>Top Speed</th>\n",
              "      <th>0-60 Time</th>\n",
              "    </tr>\n",
              "  </thead>\n",
              "  <tbody>\n",
              "    <tr>\n",
              "      <th>2446</th>\n",
              "      <td>Chevrolet</td>\n",
              "      <td>1500</td>\n",
              "      <td>Corenda</td>\n",
              "      <td>Male</td>\n",
              "      <td>Female</td>\n",
              "      <td>25</td>\n",
              "      <td>collaboration</td>\n",
              "      <td>Philippines</td>\n",
              "      <td>Tubigan</td>\n",
              "      <td>8.490877</td>\n",
              "      <td>124.345771</td>\n",
              "      <td>Khaki</td>\n",
              "      <td>False</td>\n",
              "      <td>20/03/2002</td>\n",
              "      <td>49909.44</td>\n",
              "      <td>0.4480</td>\n",
              "      <td>2000.84</td>\n",
              "      <td>0.25</td>\n",
              "      <td>239.6</td>\n",
              "      <td>11.2</td>\n",
              "    </tr>\n",
              "    <tr>\n",
              "      <th>4933</th>\n",
              "      <td>GMC</td>\n",
              "      <td>Savana 1500</td>\n",
              "      <td>Lark</td>\n",
              "      <td>Female</td>\n",
              "      <td>Female</td>\n",
              "      <td>34</td>\n",
              "      <td>interactive</td>\n",
              "      <td>Poland</td>\n",
              "      <td>Śródmieście</td>\n",
              "      <td>53.838651</td>\n",
              "      <td>22.988241</td>\n",
              "      <td>Blue</td>\n",
              "      <td>False</td>\n",
              "      <td>15/04/2010</td>\n",
              "      <td>80084.82</td>\n",
              "      <td>0.2334</td>\n",
              "      <td>2005.44</td>\n",
              "      <td>0.01</td>\n",
              "      <td>158.7</td>\n",
              "      <td>9.0</td>\n",
              "    </tr>\n",
              "    <tr>\n",
              "      <th>566</th>\n",
              "      <td>Jaguar</td>\n",
              "      <td>XF</td>\n",
              "      <td>Payton</td>\n",
              "      <td>Female</td>\n",
              "      <td>Male</td>\n",
              "      <td>64</td>\n",
              "      <td>Visionary</td>\n",
              "      <td>Nigeria</td>\n",
              "      <td>Ikot-Ekpene</td>\n",
              "      <td>5.174447</td>\n",
              "      <td>7.714515</td>\n",
              "      <td>Red</td>\n",
              "      <td>True</td>\n",
              "      <td>26/01/2016</td>\n",
              "      <td>24124.99</td>\n",
              "      <td>0.5328</td>\n",
              "      <td>2014.09</td>\n",
              "      <td>0.19</td>\n",
              "      <td>249.3</td>\n",
              "      <td>6.9</td>\n",
              "    </tr>\n",
              "    <tr>\n",
              "      <th>2538</th>\n",
              "      <td>Mitsubishi</td>\n",
              "      <td>3000GT</td>\n",
              "      <td>Thia</td>\n",
              "      <td>Female</td>\n",
              "      <td>Female</td>\n",
              "      <td>25</td>\n",
              "      <td>well-modulated</td>\n",
              "      <td>China</td>\n",
              "      <td>Yanweigang</td>\n",
              "      <td>34.509325</td>\n",
              "      <td>119.751715</td>\n",
              "      <td>Goldenrod</td>\n",
              "      <td>True</td>\n",
              "      <td>13/02/2011</td>\n",
              "      <td>88195.95</td>\n",
              "      <td>0.0391</td>\n",
              "      <td>2017.24</td>\n",
              "      <td>0.14</td>\n",
              "      <td>222.0</td>\n",
              "      <td>10.3</td>\n",
              "    </tr>\n",
              "    <tr>\n",
              "      <th>5869</th>\n",
              "      <td>Infiniti</td>\n",
              "      <td>G37</td>\n",
              "      <td>Sonny</td>\n",
              "      <td>Male</td>\n",
              "      <td>Male</td>\n",
              "      <td>20</td>\n",
              "      <td>optimizing</td>\n",
              "      <td>France</td>\n",
              "      <td>Clermont-Ferrand</td>\n",
              "      <td>45.786764</td>\n",
              "      <td>3.160264</td>\n",
              "      <td>Indigo</td>\n",
              "      <td>False</td>\n",
              "      <td>24/11/2002</td>\n",
              "      <td>77791.65</td>\n",
              "      <td>0.5691</td>\n",
              "      <td>2017.83</td>\n",
              "      <td>0.04</td>\n",
              "      <td>131.6</td>\n",
              "      <td>12.3</td>\n",
              "    </tr>\n",
              "  </tbody>\n",
              "</table>\n",
              "</div>"
            ],
            "text/plain": [
              "            Make        Model Nickname  ... 5-yr Depreciation Top Speed  0-60 Time\n",
              "2446   Chevrolet         1500  Corenda  ...              0.25     239.6       11.2\n",
              "4933         GMC  Savana 1500     Lark  ...              0.01     158.7        9.0\n",
              "566       Jaguar           XF   Payton  ...              0.19     249.3        6.9\n",
              "2538  Mitsubishi       3000GT     Thia  ...              0.14     222.0       10.3\n",
              "5869    Infiniti          G37    Sonny  ...              0.04     131.6       12.3\n",
              "\n",
              "[5 rows x 20 columns]"
            ]
          },
          "metadata": {},
          "execution_count": 22
        }
      ]
    }
  ]
}